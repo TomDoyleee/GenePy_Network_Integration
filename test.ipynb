{
 "cells": [
  {
   "cell_type": "code",
   "execution_count": 1,
   "id": "a1c603da-00fe-4a23-a2fa-be81f163f413",
   "metadata": {},
   "outputs": [],
   "source": [
    "import os\n",
    "import pandas as pd\n",
    "import numpy as np\n",
    "import get_data \n",
    "import get_patient\n",
    "import get_PPI\n",
    "from get_data import genepy_df\n",
    "import networkx as nx\n",
    "import get_network_analysis\n",
    "from binarised import UC_bin_97_5, CD_bin_97_5, CD_bin_99, UC_bin_99, CD_bin_95, UC_bin_95"
   ]
  },
  {
   "cell_type": "code",
   "execution_count": 4,
   "id": "c0bd6013-d92f-4802-bcfd-e7a92f7391c5",
   "metadata": {},
   "outputs": [],
   "source": [
    "binarised_dfs = [CD_bin_95,\n",
    "                 UC_bin_95,\n",
    "                 CD_bin_97_5,\n",
    "                 UC_bin_97_5,\n",
    "                 CD_bin_99,\n",
    "                 UC_bin_99\n",
    "                ]\n",
    "\n",
    "folder_names = ['CD_bin_95_network',\n",
    "                'UC_bin_95_network',\n",
    "                'CD_bin_97_5_network',\n",
    "                'UC_bin_97_5_network',\n",
    "                'CD_bin_99_network',\n",
    "                'UC_bin_99_network'\n",
    "                ]"
   ]
  },
  {
   "cell_type": "code",
   "execution_count": 5,
   "id": "9982ab5e-ca10-4a71-89d4-68a2cbcdd3e5",
   "metadata": {},
   "outputs": [],
   "source": [
    "def get_patient_networks(df, i, folder_name):\n",
    "    patient_net = get_PPI.get_PPI_df(df, i)\n",
    "    edge_data ={'source': patient_net[\"preferredName_A\"],\n",
    "                'target': patient_net[\"preferredName_B\"],\n",
    "                'String_Score': patient_net[\"score\"]\n",
    "               }\n",
    "    edges = pd.DataFrame(data=edge_data,\n",
    "                         columns =['source',\n",
    "                                   'target',\n",
    "                                   'String_Score'])\n",
    "    edges.to_csv(f\"patient_networks_full_test/{folder_name}/{df.index[i]}.txt\",\n",
    "                 sep=\"\\t\",\n",
    "                 header=False,\n",
    "                 index=False,\n",
    "                 encoding=\"utf-8\")\n",
    "    return(print(f\"Patient {df.index[i]} completed\"))"
   ]
  },
  {
   "cell_type": "code",
   "execution_count": 6,
   "id": "987f23d3-8e44-432b-976d-88679c983861",
   "metadata": {},
   "outputs": [],
   "source": [
    "def get_patient_networks_patient_name(df, i, folder_name):\n",
    "    patient_net = get_PPI.get_PPI_df(df, i)\n",
    "    edge_data ={'source': patient_net[\"preferredName_A\"],\n",
    "                'target': patient_net[\"preferredName_B\"],\n",
    "                'String_Score': patient_net[\"score\"]\n",
    "               }\n",
    "    edges = pd.DataFrame(data=edge_data,\n",
    "                         columns =['source',\n",
    "                                   'target',\n",
    "                                   'String_Score'])\n",
    "    edges.to_csv(f\"patient_networks_full_test/{folder_name}/{i}.txt\",\n",
    "                 sep=\"\\t\",\n",
    "                 header=False,\n",
    "                 index=False,\n",
    "                 encoding=\"utf-8\")\n",
    "    return(print(f\"Patient {i} completed\"))"
   ]
  },
  {
   "cell_type": "code",
   "execution_count": 19,
   "id": "b799f9f2-bcbb-402b-8938-77ff2b129e26",
   "metadata": {},
   "outputs": [],
   "source": [
    "import concurrent.futures\n",
    "from multiprocessing import Pool\n",
    "import threading"
   ]
  },
  {
   "cell_type": "code",
   "execution_count": 41,
   "id": "7e1cb888-f575-4e5f-93b8-44ddfb7d6be8",
   "metadata": {},
   "outputs": [],
   "source": [
    "\n",
    "def main(binarised_df, folder_name):\n",
    "    with concurrent.futures.ProcessPoolExecutor() as executor:\n",
    "        patients = range(len(binarised_df))\n",
    "        executor.map(get_patient_networks, binarised_df, patients, folder_name)\n",
    "        print(f'Waiting for {folder_name} to build networks..')\n",
    "    print(f'{folder_name} complete')\n",
    "\n",
    "def make_directories():\n",
    "    for folder in folder_names:\n",
    "        try:\n",
    "            os.mkdir(\"patient_networks_full_test/\"+folder)\n",
    "        except OSError as error:\n",
    "            print(error)\n",
    "\n",
    "def make_network_files():\n",
    "    folder_index = 0\n",
    "    for df in binarised_dfs:\n",
    "        main(df, \"patient_networks_full_test/\"+folder_names[folder_index]+\"/\")\n",
    "        \n",
    "        # wait here for the result to be available before continuing\n",
    "        folder_index += 1\n",
    "\n",
    "def check_missing_patients():\n",
    "    for folder in folder_names:\n",
    "        df_index = folder_names.index(folder)\n",
    "        missing = get_network_analysis.get_missing_patients(\"patient_networks_full_test/\"+folder)\n",
    "        print(\"Missing patient networks:\")\n",
    "        print(missing)\n",
    "        for patient in missing:\n",
    "            get_patient_networks_patient_name(binarised_dfs[df_index], patient, folder)"
   ]
  },
  {
   "cell_type": "code",
   "execution_count": null,
   "id": "bbc9cc4c-3ffd-47fa-bf80-435225cfc5f2",
   "metadata": {},
   "outputs": [],
   "source": []
  }
 ],
 "metadata": {
  "kernelspec": {
   "display_name": "Python [conda env:Research_Project] *",
   "language": "python",
   "name": "conda-env-Research_Project-py"
  },
  "language_info": {
   "codemirror_mode": {
    "name": "ipython",
    "version": 3
   },
   "file_extension": ".py",
   "mimetype": "text/x-python",
   "name": "python",
   "nbconvert_exporter": "python",
   "pygments_lexer": "ipython3",
   "version": "3.8.12"
  }
 },
 "nbformat": 4,
 "nbformat_minor": 5
}
