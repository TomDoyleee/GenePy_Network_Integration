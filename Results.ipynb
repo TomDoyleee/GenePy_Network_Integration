{
 "cells": [
  {
   "cell_type": "markdown",
   "id": "cdd59913-85e0-4499-930a-86af71aa3576",
   "metadata": {},
   "source": [
    "# Results notebook\n",
    "---\n",
    "Notebook for results\n",
    "\n",
    "## Set up"
   ]
  },
  {
   "cell_type": "code",
   "execution_count": 2,
   "id": "d64ae0aa-46ce-4da8-b970-a0e3cb4fcd70",
   "metadata": {},
   "outputs": [],
   "source": [
    "import os\n",
    "import pandas as pd\n",
    "import numpy as np\n",
    "import get_data \n",
    "import get_patient\n",
    "import get_PPI\n",
    "import get_network_analysis\n",
    "from get_data import UC_bin_97_5, CD_bin_97_5, CD_bin_99, UC_bin_99, CD_bin_95, UC_bin_95, genepy_df\n",
    "import networkx as nx\n",
    "import matplotlib.pyplot as plt\n",
    "import seaborn as sns"
   ]
  },
  {
   "cell_type": "code",
   "execution_count": 3,
   "id": "6be89058-440e-449c-b226-b61ffdec68e5",
   "metadata": {},
   "outputs": [],
   "source": [
    "import scipy.stats"
   ]
  },
  {
   "cell_type": "markdown",
   "id": "7f738787-4a8b-4fd1-b4f3-88563fc8bbbc",
   "metadata": {},
   "source": [
    "## Represent Binarised method between groups\n",
    "total / CD / UC"
   ]
  },
  {
   "cell_type": "code",
   "execution_count": null,
   "id": "8d4877e7-cb32-4314-8d9b-2dcd941afcf4",
   "metadata": {},
   "outputs": [],
   "source": []
  },
  {
   "cell_type": "markdown",
   "id": "33268a84-1a6b-4e90-b72d-c79a1f99fe06",
   "metadata": {},
   "source": [
    "### Mann-Whitney U test \n",
    "compare between groups - check binarise method is significant "
   ]
  },
  {
   "cell_type": "code",
   "execution_count": 39,
   "id": "600a5ea8-5b32-49f4-be80-77fdbf11d7a5",
   "metadata": {},
   "outputs": [
    {
     "data": {
      "text/plain": [
       "Index(['PDE11A', 'PDE11A', 'PDE11A'], dtype='object')"
      ]
     },
     "execution_count": 39,
     "metadata": {},
     "output_type": "execute_result"
    }
   ],
   "source": [
    "CD_patients = get_data.get_top_bin_sum(CD_bin_95, head=None)\n",
    "UC_patients = UC_bin_95[get_data.get_top_bin_sum(CD_bin_95, head=None).index].sum()\n",
    "UC_patients.index[UC_patients.index.duplicated()]"
   ]
  },
  {
   "cell_type": "code",
   "execution_count": 40,
   "id": "c44481e1-a9fb-49b6-8147-30e36d425465",
   "metadata": {},
   "outputs": [
    {
     "data": {
      "text/plain": [
       "Index(['PDE11A'], dtype='object')"
      ]
     },
     "execution_count": 40,
     "metadata": {},
     "output_type": "execute_result"
    }
   ],
   "source": [
    "CD_patients.index[CD_patients.index.duplicated()]"
   ]
  },
  {
   "cell_type": "code",
   "execution_count": 42,
   "id": "6f5908df-f4e1-44c5-abc2-cbb53cac4f72",
   "metadata": {},
   "outputs": [
    {
     "data": {
      "text/plain": [
       "Index(['PDE11A'], dtype='object')"
      ]
     },
     "execution_count": 42,
     "metadata": {},
     "output_type": "execute_result"
    }
   ],
   "source": [
    "UC_patients = get_data.get_top_bin_sum(UC_bin_95, head=None)\n",
    "UC_patients.index[UC_patients.index.duplicated()]"
   ]
  },
  {
   "cell_type": "code",
   "execution_count": 26,
   "id": "ab1a5b9f-fb30-4d45-a584-f2c227f0e33b",
   "metadata": {},
   "outputs": [
    {
     "ename": "ValueError",
     "evalue": "The samples x and y must have the same length.",
     "output_type": "error",
     "traceback": [
      "\u001b[0;31m---------------------------------------------------------------------------\u001b[0m",
      "\u001b[0;31mValueError\u001b[0m                                Traceback (most recent call last)",
      "\u001b[0;32m/var/folders/vr/l3nh06095r77bwy94f2wh_jc0000gn/T/ipykernel_11148/2626495876.py\u001b[0m in \u001b[0;36m<module>\u001b[0;34m\u001b[0m\n\u001b[0;32m----> 1\u001b[0;31m \u001b[0mU1\u001b[0m\u001b[0;34m,\u001b[0m \u001b[0mp\u001b[0m \u001b[0;34m=\u001b[0m \u001b[0mscipy\u001b[0m\u001b[0;34m.\u001b[0m\u001b[0mstats\u001b[0m\u001b[0;34m.\u001b[0m\u001b[0mwilcoxon\u001b[0m\u001b[0;34m(\u001b[0m\u001b[0mCD_patients\u001b[0m\u001b[0;34m,\u001b[0m \u001b[0mUC_patients\u001b[0m\u001b[0;34m)\u001b[0m\u001b[0;34m\u001b[0m\u001b[0;34m\u001b[0m\u001b[0m\n\u001b[0m\u001b[1;32m      2\u001b[0m \u001b[0mprint\u001b[0m\u001b[0;34m(\u001b[0m\u001b[0mp\u001b[0m\u001b[0;34m)\u001b[0m\u001b[0;34m\u001b[0m\u001b[0;34m\u001b[0m\u001b[0m\n",
      "\u001b[0;32m~/opt/anaconda3/envs/Research_Project/lib/python3.8/site-packages/scipy/stats/morestats.py\u001b[0m in \u001b[0;36mwilcoxon\u001b[0;34m(x, y, zero_method, correction, alternative, mode)\u001b[0m\n\u001b[1;32m   3127\u001b[0m             \u001b[0;32mraise\u001b[0m \u001b[0mValueError\u001b[0m\u001b[0;34m(\u001b[0m\u001b[0;34m'Samples x and y must be one-dimensional.'\u001b[0m\u001b[0;34m)\u001b[0m\u001b[0;34m\u001b[0m\u001b[0;34m\u001b[0m\u001b[0m\n\u001b[1;32m   3128\u001b[0m         \u001b[0;32mif\u001b[0m \u001b[0mlen\u001b[0m\u001b[0;34m(\u001b[0m\u001b[0mx\u001b[0m\u001b[0;34m)\u001b[0m \u001b[0;34m!=\u001b[0m \u001b[0mlen\u001b[0m\u001b[0;34m(\u001b[0m\u001b[0my\u001b[0m\u001b[0;34m)\u001b[0m\u001b[0;34m:\u001b[0m\u001b[0;34m\u001b[0m\u001b[0;34m\u001b[0m\u001b[0m\n\u001b[0;32m-> 3129\u001b[0;31m             \u001b[0;32mraise\u001b[0m \u001b[0mValueError\u001b[0m\u001b[0;34m(\u001b[0m\u001b[0;34m'The samples x and y must have the same length.'\u001b[0m\u001b[0;34m)\u001b[0m\u001b[0;34m\u001b[0m\u001b[0;34m\u001b[0m\u001b[0m\n\u001b[0m\u001b[1;32m   3130\u001b[0m         \u001b[0md\u001b[0m \u001b[0;34m=\u001b[0m \u001b[0mx\u001b[0m \u001b[0;34m-\u001b[0m \u001b[0my\u001b[0m\u001b[0;34m\u001b[0m\u001b[0;34m\u001b[0m\u001b[0m\n\u001b[1;32m   3131\u001b[0m \u001b[0;34m\u001b[0m\u001b[0m\n",
      "\u001b[0;31mValueError\u001b[0m: The samples x and y must have the same length."
     ]
    }
   ],
   "source": [
    "U1, p = scipy.stats.wilcoxon(CD_patients, UC_patients)\n",
    "print(p)"
   ]
  },
  {
   "cell_type": "markdown",
   "id": "c7f3b90f-2e5f-45c5-b058-1349ada04094",
   "metadata": {},
   "source": [
    "## Represent Percentiles/Distrubution between cohorts"
   ]
  },
  {
   "cell_type": "code",
   "execution_count": null,
   "id": "ef91a264-6f6d-40e7-817b-5506279e39aa",
   "metadata": {},
   "outputs": [],
   "source": []
  },
  {
   "cell_type": "markdown",
   "id": "39102430-3c25-4a85-b38e-df3eb6a4ed11",
   "metadata": {},
   "source": [
    "## Network dispalying node with the highest number of "
   ]
  },
  {
   "cell_type": "markdown",
   "id": "e1ef824d-5d7b-4f9f-bdcb-d03daec7b750",
   "metadata": {},
   "source": [
    "### Patients\n",
    "<2 removed "
   ]
  },
  {
   "cell_type": "code",
   "execution_count": null,
   "id": "d0fcc87a-faf6-4767-b2a1-3b10598672b5",
   "metadata": {},
   "outputs": [],
   "source": []
  },
  {
   "cell_type": "markdown",
   "id": "e1c1bbd2-6216-4730-b8be-e772d0b02c68",
   "metadata": {},
   "source": [
    "### Degree\n",
    "Degree <2 removed"
   ]
  },
  {
   "cell_type": "code",
   "execution_count": null,
   "id": "fea2906f-ce6a-4808-9de6-523a79035a53",
   "metadata": {},
   "outputs": [],
   "source": []
  },
  {
   "cell_type": "markdown",
   "id": "b8fcfa51-41cb-4b59-a679-678ee76fb76e",
   "metadata": {},
   "source": [
    "### Betweeness centrality "
   ]
  },
  {
   "cell_type": "code",
   "execution_count": null,
   "id": "19852f56-c5a5-4afb-b34d-ff54b5bae2a5",
   "metadata": {},
   "outputs": [],
   "source": []
  },
  {
   "cell_type": "code",
   "execution_count": null,
   "id": "768a1d3e-459c-490f-8e67-5d2b154f0fef",
   "metadata": {},
   "outputs": [],
   "source": []
  }
 ],
 "metadata": {
  "kernelspec": {
   "display_name": "Python [conda env:Research_Project] *",
   "language": "python",
   "name": "conda-env-Research_Project-py"
  },
  "language_info": {
   "codemirror_mode": {
    "name": "ipython",
    "version": 3
   },
   "file_extension": ".py",
   "mimetype": "text/x-python",
   "name": "python",
   "nbconvert_exporter": "python",
   "pygments_lexer": "ipython3",
   "version": "3.8.12"
  }
 },
 "nbformat": 4,
 "nbformat_minor": 5
}
