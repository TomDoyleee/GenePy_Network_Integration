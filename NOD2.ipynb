{
 "cells": [
  {
   "cell_type": "markdown",
   "id": "be8e93c2-d3d7-4666-bcd1-8f99dc81e676",
   "metadata": {},
   "source": [
    "# NOD2 \n",
    "---\n",
    "\n",
    "Analysis of NOD2 patients"
   ]
  },
  {
   "cell_type": "markdown",
   "id": "39417c55-e7cb-4c81-a4dd-c50b26c0cf88",
   "metadata": {},
   "source": [
    "## Setup"
   ]
  },
  {
   "cell_type": "code",
   "execution_count": 2,
   "id": "8055a4d1-fa28-41de-b7ae-676219596ea9",
   "metadata": {},
   "outputs": [
    {
     "name": "stdout",
     "output_type": "stream",
     "text": [
      "You are connected to Cytoscape!\n"
     ]
    }
   ],
   "source": [
    "import os\n",
    "import pandas as pd\n",
    "import numpy as np\n",
    "import get_data \n",
    "import get_patient\n",
    "import get_PPI\n",
    "import get_network_analysis\n",
    "import cytoscape\n",
    "from binarised import UC_bin_97_5, CD_bin_97_5, CD_bin_99, UC_bin_99, CD_bin_95, UC_bin_95\n",
    "from get_data import genepy_df\n",
    "import networkx as nx\n",
    "import matplotlib.pyplot as plt\n",
    "import seaborn as sns"
   ]
  },
  {
   "cell_type": "markdown",
   "id": "f89fe4ae-8060-4e73-baa8-a6894c2839ed",
   "metadata": {},
   "source": [
    "## Create networks"
   ]
  },
  {
   "cell_type": "code",
   "execution_count": 28,
   "id": "bfeebf82-1010-42ff-9ad4-b5b0692303f2",
   "metadata": {},
   "outputs": [],
   "source": [
    "CD_95_mg = get_network_analysis.create_multiple_graph('patient_networks/CD_95_network_3/')\n",
    "UC_95_mg = get_network_analysis.create_multiple_graph('patient_networks/UC_95_network_3/')\n",
    "\n",
    "CD_95_gl = get_network_analysis.create_graph_list_from_directory('patient_networks/CD_95_network_3/')\n",
    "UC_95_gl = get_network_analysis.create_graph_list_from_directory('patient_networks/UC_95_network_3/')"
   ]
  },
  {
   "cell_type": "markdown",
   "id": "171b6a43-3f25-439a-b2c2-fc3e75429936",
   "metadata": {},
   "source": [
    "## Import patient one lists"
   ]
  },
  {
   "cell_type": "code",
   "execution_count": 3,
   "id": "90f8cff1-65f3-4bf0-8b24-1a3b9416b1fd",
   "metadata": {},
   "outputs": [],
   "source": [
    "one_hit_file = \"../Data/NOD2_OneHit.frq_cadd.lst\"\n",
    "two_hit_file = \"../Data/NOD2_2neHit.frq_cadd.txt\""
   ]
  },
  {
   "cell_type": "code",
   "execution_count": 15,
   "id": "ccf5d27f-f5b2-4934-bcc1-e9164e84d7f6",
   "metadata": {},
   "outputs": [],
   "source": [
    "one_hit_df = pd.read_table(one_hit_file, header=None)\n",
    "two_hit_df = pd.read_table(two_hit_file, index_col=0)"
   ]
  },
  {
   "cell_type": "code",
   "execution_count": 10,
   "id": "f2b50dca-e872-42bf-9399-3540c7f22b48",
   "metadata": {},
   "outputs": [
    {
     "data": {
      "text/html": [
       "<div>\n",
       "<style scoped>\n",
       "    .dataframe tbody tr th:only-of-type {\n",
       "        vertical-align: middle;\n",
       "    }\n",
       "\n",
       "    .dataframe tbody tr th {\n",
       "        vertical-align: top;\n",
       "    }\n",
       "\n",
       "    .dataframe thead th {\n",
       "        text-align: right;\n",
       "    }\n",
       "</style>\n",
       "<table border=\"1\" class=\"dataframe\">\n",
       "  <thead>\n",
       "    <tr style=\"text-align: right;\">\n",
       "      <th></th>\n",
       "      <th>0</th>\n",
       "    </tr>\n",
       "  </thead>\n",
       "  <tbody>\n",
       "    <tr>\n",
       "      <th>0</th>\n",
       "      <td>AP0030</td>\n",
       "    </tr>\n",
       "    <tr>\n",
       "      <th>1</th>\n",
       "      <td>AP0055</td>\n",
       "    </tr>\n",
       "    <tr>\n",
       "      <th>2</th>\n",
       "      <td>AP0142</td>\n",
       "    </tr>\n",
       "    <tr>\n",
       "      <th>3</th>\n",
       "      <td>AP0205</td>\n",
       "    </tr>\n",
       "    <tr>\n",
       "      <th>4</th>\n",
       "      <td>AP0258</td>\n",
       "    </tr>\n",
       "    <tr>\n",
       "      <th>...</th>\n",
       "      <td>...</td>\n",
       "    </tr>\n",
       "    <tr>\n",
       "      <th>253</th>\n",
       "      <td>SOPR0549</td>\n",
       "    </tr>\n",
       "    <tr>\n",
       "      <th>254</th>\n",
       "      <td>SOPR0552</td>\n",
       "    </tr>\n",
       "    <tr>\n",
       "      <th>255</th>\n",
       "      <td>SORL0025</td>\n",
       "    </tr>\n",
       "    <tr>\n",
       "      <th>256</th>\n",
       "      <td>SORL0030</td>\n",
       "    </tr>\n",
       "    <tr>\n",
       "      <th>257</th>\n",
       "      <td>SORL0042</td>\n",
       "    </tr>\n",
       "  </tbody>\n",
       "</table>\n",
       "<p>258 rows × 1 columns</p>\n",
       "</div>"
      ],
      "text/plain": [
       "            0\n",
       "0      AP0030\n",
       "1      AP0055\n",
       "2      AP0142\n",
       "3      AP0205\n",
       "4      AP0258\n",
       "..        ...\n",
       "253  SOPR0549\n",
       "254  SOPR0552\n",
       "255  SORL0025\n",
       "256  SORL0030\n",
       "257  SORL0042\n",
       "\n",
       "[258 rows x 1 columns]"
      ]
     },
     "execution_count": 10,
     "metadata": {},
     "output_type": "execute_result"
    }
   ],
   "source": [
    "one_hit_df"
   ]
  },
  {
   "cell_type": "code",
   "execution_count": 16,
   "id": "b72ceaea-b19f-4bc9-b136-0e8409e971c6",
   "metadata": {},
   "outputs": [
    {
     "data": {
      "text/html": [
       "<div>\n",
       "<style scoped>\n",
       "    .dataframe tbody tr th:only-of-type {\n",
       "        vertical-align: middle;\n",
       "    }\n",
       "\n",
       "    .dataframe tbody tr th {\n",
       "        vertical-align: top;\n",
       "    }\n",
       "\n",
       "    .dataframe thead th {\n",
       "        text-align: right;\n",
       "    }\n",
       "</style>\n",
       "<table border=\"1\" class=\"dataframe\">\n",
       "  <thead>\n",
       "    <tr style=\"text-align: right;\">\n",
       "      <th></th>\n",
       "      <th>Hit</th>\n",
       "    </tr>\n",
       "    <tr>\n",
       "      <th>sample</th>\n",
       "      <th></th>\n",
       "    </tr>\n",
       "  </thead>\n",
       "  <tbody>\n",
       "    <tr>\n",
       "      <th>AP0148</th>\n",
       "      <td>2Heterozygotes</td>\n",
       "    </tr>\n",
       "    <tr>\n",
       "      <th>PR0004</th>\n",
       "      <td>2Heterozygotes</td>\n",
       "    </tr>\n",
       "    <tr>\n",
       "      <th>PR0025</th>\n",
       "      <td>2Heterozygotes</td>\n",
       "    </tr>\n",
       "    <tr>\n",
       "      <th>PR0062</th>\n",
       "      <td>2Heterozygotes</td>\n",
       "    </tr>\n",
       "    <tr>\n",
       "      <th>PR0063</th>\n",
       "      <td>2Heterozygotes</td>\n",
       "    </tr>\n",
       "    <tr>\n",
       "      <th>...</th>\n",
       "      <td>...</td>\n",
       "    </tr>\n",
       "    <tr>\n",
       "      <th>PR0189</th>\n",
       "      <td>homozygote</td>\n",
       "    </tr>\n",
       "    <tr>\n",
       "      <th>SOAD0118</th>\n",
       "      <td>homozygote</td>\n",
       "    </tr>\n",
       "    <tr>\n",
       "      <th>SOAD0152</th>\n",
       "      <td>homozygote</td>\n",
       "    </tr>\n",
       "    <tr>\n",
       "      <th>SOAD0387</th>\n",
       "      <td>homozygote</td>\n",
       "    </tr>\n",
       "    <tr>\n",
       "      <th>SOPR0547</th>\n",
       "      <td>homozygote</td>\n",
       "    </tr>\n",
       "  </tbody>\n",
       "</table>\n",
       "<p>75 rows × 1 columns</p>\n",
       "</div>"
      ],
      "text/plain": [
       "                     Hit\n",
       "sample                  \n",
       "AP0148    2Heterozygotes\n",
       "PR0004    2Heterozygotes\n",
       "PR0025    2Heterozygotes\n",
       "PR0062    2Heterozygotes\n",
       "PR0063    2Heterozygotes\n",
       "...                  ...\n",
       "PR0189        homozygote\n",
       "SOAD0118      homozygote\n",
       "SOAD0152      homozygote\n",
       "SOAD0387      homozygote\n",
       "SOPR0547      homozygote\n",
       "\n",
       "[75 rows x 1 columns]"
      ]
     },
     "execution_count": 16,
     "metadata": {},
     "output_type": "execute_result"
    }
   ],
   "source": [
    "two_hit_df"
   ]
  },
  {
   "cell_type": "markdown",
   "id": "59b10c2c-a3e2-42cf-8d1e-9dbbc3b9198d",
   "metadata": {},
   "source": [
    "## get networks"
   ]
  },
  {
   "cell_type": "code",
   "execution_count": 22,
   "id": "41055cc3-4ea5-4777-a208-f5428e9b35f8",
   "metadata": {},
   "outputs": [],
   "source": [
    "def get_edges_with_name(graph, patient_name):\n",
    "    '''\n",
    "    Function to return graph with edges greater than the specified edge weight.\n",
    "    '''\n",
    "    edge_list = []\n",
    "    for u, v, name in graph.edges.data(\"name\"):\n",
    "        if name != patient_name:\n",
    "            edge_list.append((u,v,name))\n",
    "        else:\n",
    "            continue\n",
    "    graph = graph.remove_edges_from(edge_list)\n",
    "    return graph"
   ]
  },
  {
   "cell_type": "code",
   "execution_count": 25,
   "id": "5a023904-c329-4a19-8070-4424f2651fea",
   "metadata": {},
   "outputs": [
    {
     "ename": "AttributeError",
     "evalue": "'NoneType' object has no attribute 'draw'",
     "output_type": "error",
     "traceback": [
      "\u001b[0;31m---------------------------------------------------------------------------\u001b[0m",
      "\u001b[0;31mAttributeError\u001b[0m                            Traceback (most recent call last)",
      "\u001b[0;32m/var/folders/vr/l3nh06095r77bwy94f2wh_jc0000gn/T/ipykernel_17944/2788325777.py\u001b[0m in \u001b[0;36m<module>\u001b[0;34m\u001b[0m\n\u001b[0;32m----> 1\u001b[0;31m \u001b[0mget_edges_with_name\u001b[0m\u001b[0;34m(\u001b[0m\u001b[0mCD_95_mg\u001b[0m\u001b[0;34m,\u001b[0m\u001b[0;34m'PR0189'\u001b[0m\u001b[0;34m)\u001b[0m\u001b[0;34m.\u001b[0m\u001b[0mdraw\u001b[0m\u001b[0;34m(\u001b[0m\u001b[0;34m)\u001b[0m\u001b[0;34m\u001b[0m\u001b[0;34m\u001b[0m\u001b[0m\n\u001b[0m",
      "\u001b[0;31mAttributeError\u001b[0m: 'NoneType' object has no attribute 'draw'"
     ]
    }
   ],
   "source": [
    "get_edges_with_name(CD_95_mg,'PR0189').draw()"
   ]
  },
  {
   "cell_type": "code",
   "execution_count": 36,
   "id": "4f9c8312-a466-4d34-b591-44d082209cda",
   "metadata": {},
   "outputs": [
    {
     "ename": "NetworkXError",
     "evalue": "The node NOD2 is not in the graph.",
     "output_type": "error",
     "traceback": [
      "\u001b[0;31m---------------------------------------------------------------------------\u001b[0m",
      "\u001b[0;31mKeyError\u001b[0m                                  Traceback (most recent call last)",
      "\u001b[0;32m~/opt/anaconda3/envs/Research_Project/lib/python3.8/site-packages/networkx/classes/graph.py\u001b[0m in \u001b[0;36mneighbors\u001b[0;34m(self, n)\u001b[0m\n\u001b[1;32m   1252\u001b[0m         \u001b[0;32mtry\u001b[0m\u001b[0;34m:\u001b[0m\u001b[0;34m\u001b[0m\u001b[0;34m\u001b[0m\u001b[0m\n\u001b[0;32m-> 1253\u001b[0;31m             \u001b[0;32mreturn\u001b[0m \u001b[0miter\u001b[0m\u001b[0;34m(\u001b[0m\u001b[0mself\u001b[0m\u001b[0;34m.\u001b[0m\u001b[0m_adj\u001b[0m\u001b[0;34m[\u001b[0m\u001b[0mn\u001b[0m\u001b[0;34m]\u001b[0m\u001b[0;34m)\u001b[0m\u001b[0;34m\u001b[0m\u001b[0;34m\u001b[0m\u001b[0m\n\u001b[0m\u001b[1;32m   1254\u001b[0m         \u001b[0;32mexcept\u001b[0m \u001b[0mKeyError\u001b[0m \u001b[0;32mas\u001b[0m \u001b[0me\u001b[0m\u001b[0;34m:\u001b[0m\u001b[0;34m\u001b[0m\u001b[0;34m\u001b[0m\u001b[0m\n",
      "\u001b[0;31mKeyError\u001b[0m: 'NOD2'",
      "\nThe above exception was the direct cause of the following exception:\n",
      "\u001b[0;31mNetworkXError\u001b[0m                             Traceback (most recent call last)",
      "\u001b[0;32m/var/folders/vr/l3nh06095r77bwy94f2wh_jc0000gn/T/ipykernel_17944/3904727058.py\u001b[0m in \u001b[0;36m<module>\u001b[0;34m\u001b[0m\n\u001b[0;32m----> 1\u001b[0;31m \u001b[0mget_network_analysis\u001b[0m\u001b[0;34m.\u001b[0m\u001b[0mget_patient_graph\u001b[0m\u001b[0;34m(\u001b[0m\u001b[0;34m'PR0189'\u001b[0m\u001b[0;34m,\u001b[0m \u001b[0mCD_95_gl\u001b[0m\u001b[0;34m)\u001b[0m\u001b[0;34m.\u001b[0m\u001b[0mneighbors\u001b[0m\u001b[0;34m(\u001b[0m\u001b[0;34m'NOD2'\u001b[0m\u001b[0;34m)\u001b[0m\u001b[0;34m\u001b[0m\u001b[0;34m\u001b[0m\u001b[0m\n\u001b[0m",
      "\u001b[0;32m~/opt/anaconda3/envs/Research_Project/lib/python3.8/site-packages/networkx/classes/graph.py\u001b[0m in \u001b[0;36mneighbors\u001b[0;34m(self, n)\u001b[0m\n\u001b[1;32m   1253\u001b[0m             \u001b[0;32mreturn\u001b[0m \u001b[0miter\u001b[0m\u001b[0;34m(\u001b[0m\u001b[0mself\u001b[0m\u001b[0;34m.\u001b[0m\u001b[0m_adj\u001b[0m\u001b[0;34m[\u001b[0m\u001b[0mn\u001b[0m\u001b[0;34m]\u001b[0m\u001b[0;34m)\u001b[0m\u001b[0;34m\u001b[0m\u001b[0;34m\u001b[0m\u001b[0m\n\u001b[1;32m   1254\u001b[0m         \u001b[0;32mexcept\u001b[0m \u001b[0mKeyError\u001b[0m \u001b[0;32mas\u001b[0m \u001b[0me\u001b[0m\u001b[0;34m:\u001b[0m\u001b[0;34m\u001b[0m\u001b[0;34m\u001b[0m\u001b[0m\n\u001b[0;32m-> 1255\u001b[0;31m             \u001b[0;32mraise\u001b[0m \u001b[0mNetworkXError\u001b[0m\u001b[0;34m(\u001b[0m\u001b[0;34mf\"The node {n} is not in the graph.\"\u001b[0m\u001b[0;34m)\u001b[0m \u001b[0;32mfrom\u001b[0m \u001b[0me\u001b[0m\u001b[0;34m\u001b[0m\u001b[0;34m\u001b[0m\u001b[0m\n\u001b[0m\u001b[1;32m   1256\u001b[0m \u001b[0;34m\u001b[0m\u001b[0m\n\u001b[1;32m   1257\u001b[0m     \u001b[0;34m@\u001b[0m\u001b[0mproperty\u001b[0m\u001b[0;34m\u001b[0m\u001b[0;34m\u001b[0m\u001b[0m\n",
      "\u001b[0;31mNetworkXError\u001b[0m: The node NOD2 is not in the graph."
     ]
    }
   ],
   "source": [
    "get_network_analysis.get_patient_graph('PR0189', CD_95_gl).neighbors('NOD2')"
   ]
  },
  {
   "cell_type": "code",
   "execution_count": 47,
   "id": "6d5d5e0f-2e71-4aca-a7f4-f7fc615a6c67",
   "metadata": {},
   "outputs": [
    {
     "name": "stdout",
     "output_type": "stream",
     "text": [
      "Applying default style...\n",
      "Applying preferred layout\n"
     ]
    },
    {
     "data": {
      "text/plain": [
       "{'networkSUID': 7236}"
      ]
     },
     "execution_count": 47,
     "metadata": {},
     "output_type": "execute_result"
    }
   ],
   "source": [
    "NOD2_neighbors = [n for n in CD_95_mg.neighbors('NOD2')]\n",
    "\n",
    "full_list = []\n",
    "for i in NOD2_neighbors:\n",
    "    NOD2_second_shell = [n for n in CD_95_mg.neighbors(i)]\n",
    "    for i in NOD2_second_shell:\n",
    "        full_list.append(i)\n",
    "\n",
    "full_list\n",
    "\n",
    "subgraph = CD_95_mg.subgraph(full_list)\n",
    "cytoscape.create_multigraph_network_in_cytoscape(subgraph)"
   ]
  },
  {
   "cell_type": "code",
   "execution_count": 48,
   "id": "e7182829-ecc1-4c91-bf1a-32c3c17e9a04",
   "metadata": {},
   "outputs": [
    {
     "data": {
      "text/html": [
       "<div>\n",
       "<style scoped>\n",
       "    .dataframe tbody tr th:only-of-type {\n",
       "        vertical-align: middle;\n",
       "    }\n",
       "\n",
       "    .dataframe tbody tr th {\n",
       "        vertical-align: top;\n",
       "    }\n",
       "\n",
       "    .dataframe thead th {\n",
       "        text-align: right;\n",
       "    }\n",
       "</style>\n",
       "<table border=\"1\" class=\"dataframe\">\n",
       "  <thead>\n",
       "    <tr style=\"text-align: right;\">\n",
       "      <th></th>\n",
       "      <th>source</th>\n",
       "      <th>target</th>\n",
       "      <th>Patients</th>\n",
       "      <th>patients_names</th>\n",
       "    </tr>\n",
       "  </thead>\n",
       "  <tbody>\n",
       "    <tr>\n",
       "      <th>0</th>\n",
       "      <td>FYN</td>\n",
       "      <td>NRG1</td>\n",
       "      <td>5</td>\n",
       "      <td>[SOAD0470, PR0210, SOPR0280, SOAD0182, PR0094]</td>\n",
       "    </tr>\n",
       "    <tr>\n",
       "      <th>1</th>\n",
       "      <td>PRKN</td>\n",
       "      <td>LRRK2</td>\n",
       "      <td>5</td>\n",
       "      <td>[SOAD0599, SOAD0201, SOPR0296, SOPR0323, SOAD0...</td>\n",
       "    </tr>\n",
       "    <tr>\n",
       "      <th>2</th>\n",
       "      <td>ERBB2</td>\n",
       "      <td>STUB1</td>\n",
       "      <td>5</td>\n",
       "      <td>[SOPR0418, SOPR0247, SOPR0301, PR0196, SOAD0454]</td>\n",
       "    </tr>\n",
       "    <tr>\n",
       "      <th>3</th>\n",
       "      <td>BTC</td>\n",
       "      <td>NRG1</td>\n",
       "      <td>4</td>\n",
       "      <td>[SOAD0470, SOPR0245, PR0094, SOAD0252]</td>\n",
       "    </tr>\n",
       "    <tr>\n",
       "      <th>4</th>\n",
       "      <td>IFIH1</td>\n",
       "      <td>IKBKE</td>\n",
       "      <td>4</td>\n",
       "      <td>[PR0010, SOPR0255, AP0013, PR0019]</td>\n",
       "    </tr>\n",
       "    <tr>\n",
       "      <th>...</th>\n",
       "      <td>...</td>\n",
       "      <td>...</td>\n",
       "      <td>...</td>\n",
       "      <td>...</td>\n",
       "    </tr>\n",
       "    <tr>\n",
       "      <th>492</th>\n",
       "      <td>TLR2</td>\n",
       "      <td>FPR1</td>\n",
       "      <td>1</td>\n",
       "      <td>[SOAD0345]</td>\n",
       "    </tr>\n",
       "    <tr>\n",
       "      <th>493</th>\n",
       "      <td>TLR2</td>\n",
       "      <td>CD163</td>\n",
       "      <td>1</td>\n",
       "      <td>[SOAD0235]</td>\n",
       "    </tr>\n",
       "    <tr>\n",
       "      <th>494</th>\n",
       "      <td>TLR2</td>\n",
       "      <td>TLR1</td>\n",
       "      <td>1</td>\n",
       "      <td>[SOPR0241]</td>\n",
       "    </tr>\n",
       "    <tr>\n",
       "      <th>495</th>\n",
       "      <td>TLR2</td>\n",
       "      <td>MBL2</td>\n",
       "      <td>1</td>\n",
       "      <td>[SOPR0241]</td>\n",
       "    </tr>\n",
       "    <tr>\n",
       "      <th>496</th>\n",
       "      <td>TLR4</td>\n",
       "      <td>FCGR2A</td>\n",
       "      <td>1</td>\n",
       "      <td>[SOAD0128]</td>\n",
       "    </tr>\n",
       "  </tbody>\n",
       "</table>\n",
       "<p>497 rows × 4 columns</p>\n",
       "</div>"
      ],
      "text/plain": [
       "    source  target  Patients  \\\n",
       "0      FYN    NRG1         5   \n",
       "1     PRKN   LRRK2         5   \n",
       "2    ERBB2   STUB1         5   \n",
       "3      BTC    NRG1         4   \n",
       "4    IFIH1   IKBKE         4   \n",
       "..     ...     ...       ...   \n",
       "492   TLR2    FPR1         1   \n",
       "493   TLR2   CD163         1   \n",
       "494   TLR2    TLR1         1   \n",
       "495   TLR2    MBL2         1   \n",
       "496   TLR4  FCGR2A         1   \n",
       "\n",
       "                                        patients_names  \n",
       "0       [SOAD0470, PR0210, SOPR0280, SOAD0182, PR0094]  \n",
       "1    [SOAD0599, SOAD0201, SOPR0296, SOPR0323, SOAD0...  \n",
       "2     [SOPR0418, SOPR0247, SOPR0301, PR0196, SOAD0454]  \n",
       "3               [SOAD0470, SOPR0245, PR0094, SOAD0252]  \n",
       "4                   [PR0010, SOPR0255, AP0013, PR0019]  \n",
       "..                                                 ...  \n",
       "492                                         [SOAD0345]  \n",
       "493                                         [SOAD0235]  \n",
       "494                                         [SOPR0241]  \n",
       "495                                         [SOPR0241]  \n",
       "496                                         [SOAD0128]  \n",
       "\n",
       "[497 rows x 4 columns]"
      ]
     },
     "execution_count": 48,
     "metadata": {},
     "output_type": "execute_result"
    }
   ],
   "source": [
    "get_network_analysis.get_patient_names_from_multigraph(subgraph)"
   ]
  },
  {
   "cell_type": "code",
   "execution_count": 50,
   "id": "7d083fcc-fcca-405c-98b9-387bd0555182",
   "metadata": {},
   "outputs": [
    {
     "name": "stdout",
     "output_type": "stream",
     "text": [
      "Applying default style...\n",
      "Applying preferred layout\n"
     ]
    },
    {
     "data": {
      "text/plain": [
       "{'networkSUID': 255431}"
      ]
     },
     "execution_count": 50,
     "metadata": {},
     "output_type": "execute_result"
    }
   ],
   "source": [
    "cytoscape.view_networkx_in_cytoscape(CD_95_mg)"
   ]
  },
  {
   "cell_type": "code",
   "execution_count": null,
   "id": "6271bddf-3fd0-4609-97db-a0d02776f01e",
   "metadata": {},
   "outputs": [],
   "source": []
  }
 ],
 "metadata": {
  "kernelspec": {
   "display_name": "Python [conda env:Research_Project] *",
   "language": "python",
   "name": "conda-env-Research_Project-py"
  },
  "language_info": {
   "codemirror_mode": {
    "name": "ipython",
    "version": 3
   },
   "file_extension": ".py",
   "mimetype": "text/x-python",
   "name": "python",
   "nbconvert_exporter": "python",
   "pygments_lexer": "ipython3",
   "version": "3.8.12"
  }
 },
 "nbformat": 4,
 "nbformat_minor": 5
}
