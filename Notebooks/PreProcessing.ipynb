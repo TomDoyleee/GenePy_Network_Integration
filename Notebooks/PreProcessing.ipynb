{
 "cells": [
  {
   "cell_type": "markdown",
   "id": "0d45753d-2c41-400a-9fba-8a3312f41191",
   "metadata": {},
   "source": [
    "# Preprocessing Notebook\n",
    "---\n",
    "Notebook for preprocessing Genepy Scores"
   ]
  },
  {
   "cell_type": "code",
   "execution_count": 1,
   "id": "23df811a-3660-4c4a-9da8-97769e7c8925",
   "metadata": {},
   "outputs": [
    {
     "name": "stdout",
     "output_type": "stream",
     "text": [
      "            A1BG      A1CF       A2M     A2ML1   A3GALT2    A4GALT     A4GNT  \\\n",
      "Samid                                                                          \n",
      "AP0013  0.213376  0.168596  0.578950  0.000000  0.251588  0.168758  0.317849   \n",
      "AP0030  0.423495  0.000000  0.145681  0.231687  0.000000  0.128607  0.184796   \n",
      "AP0045  0.249633  0.000000  0.145681  0.070938  0.000000  0.047297  0.184796   \n",
      "AP0046  0.423495  0.000000  0.145681  0.333588  0.096853  0.047297  0.184796   \n",
      "AP0055  0.213376  0.000000  0.221325  0.188007  0.055868  0.047297  0.490579   \n",
      "\n",
      "            AAAS  AACS     AADAC  ...  ZW10    ZWILCH     ZWINT  ZXDA  \\\n",
      "Samid                             ...                                   \n",
      "AP0013  0.000000   0.0  0.000000  ...   0.0  0.147379  0.058455   0.0   \n",
      "AP0030  0.188629   0.0  0.018502  ...   0.0  0.095539  0.058455   0.0   \n",
      "AP0045  0.000000   0.0  0.391329  ...   0.0  0.000000  0.058455   0.0   \n",
      "AP0046  0.188629   0.0  0.000000  ...   0.0  0.000000  0.058455   0.0   \n",
      "AP0055  0.188629   0.0  0.391329  ...   0.0  0.095539  0.058455   0.0   \n",
      "\n",
      "            ZXDC    ZYG11A    ZYG11B  ZYX     ZZEF1      ZZZ3  \n",
      "Samid                                                          \n",
      "AP0013  0.033063  0.000000  0.339606  0.0  0.824735  0.000000  \n",
      "AP0030  0.054210  0.000000  0.339606  0.0  0.988283  0.000000  \n",
      "AP0045  0.033063  0.069262  0.000000  0.0  0.036130  1.822397  \n",
      "AP0046  0.033063  0.069262  0.403379  0.0  0.036130  0.000000  \n",
      "AP0055  0.033063  0.069262  0.000000  0.0  1.439703  1.822397  \n",
      "\n",
      "[5 rows x 16794 columns]\n"
     ]
    }
   ],
   "source": [
    "from get_data import genepy_df\n",
    "import pandas as pd\n",
    "import numpy as np\n",
    "import os"
   ]
  },
  {
   "cell_type": "code",
   "execution_count": 1,
   "id": "6da235b6-2229-4491-9861-9e626896f4aa",
   "metadata": {},
   "outputs": [
    {
     "ename": "ModuleNotFoundError",
     "evalue": "No module named 'binerised'",
     "output_type": "error",
     "traceback": [
      "\u001b[0;31m---------------------------------------------------------------------------\u001b[0m",
      "\u001b[0;31mModuleNotFoundError\u001b[0m                       Traceback (most recent call last)",
      "\u001b[0;32m/var/folders/vr/l3nh06095r77bwy94f2wh_jc0000gn/T/ipykernel_48767/1067092193.py\u001b[0m in \u001b[0;36m<module>\u001b[0;34m\u001b[0m\n\u001b[0;32m----> 1\u001b[0;31m \u001b[0;32mfrom\u001b[0m \u001b[0mbinerised\u001b[0m \u001b[0;32mimport\u001b[0m \u001b[0mgenepy_bin_99\u001b[0m\u001b[0;34m,\u001b[0m \u001b[0mgenepy_bin_97_5\u001b[0m\u001b[0;34m\u001b[0m\u001b[0;34m\u001b[0m\u001b[0m\n\u001b[0m",
      "\u001b[0;31mModuleNotFoundError\u001b[0m: No module named 'binerised'"
     ]
    }
   ],
   "source": [
    "from binerised import genepy_bin_99, genepy_bin_97_5"
   ]
  },
  {
   "cell_type": "code",
   "execution_count": 5,
   "id": "f46758ca-eeb7-4508-b079-161a6bc41254",
   "metadata": {},
   "outputs": [],
   "source": [
    "import get_data"
   ]
  },
  {
   "cell_type": "code",
   "execution_count": 6,
   "id": "21959551-b4c4-4b90-b1ce-e4378d9b6872",
   "metadata": {},
   "outputs": [
    {
     "data": {
      "text/plain": [
       "Samid\n",
       "SOAD0280    1490\n",
       "SOAD0283    1366\n",
       "SOAD0509    1295\n",
       "SOPR0291    1259\n",
       "SOPR0240    1100\n",
       "            ... \n",
       "SOPR0357      88\n",
       "RL0007        88\n",
       "SOPR0551      84\n",
       "PR0069        84\n",
       "PR0075        83\n",
       "Length: 1086, dtype: int64"
      ]
     },
     "execution_count": 6,
     "metadata": {},
     "output_type": "execute_result"
    }
   ],
   "source": [
    "patient_dgenes = genepy_bin_99.sum(axis=1).sort_values(ascending=False)\n",
    "patient_dgenes #.rename('total_disease_genes')"
   ]
  },
  {
   "cell_type": "code",
   "execution_count": 7,
   "id": "3cb82251-0654-41a2-9124-c057569141a9",
   "metadata": {},
   "outputs": [
    {
     "data": {
      "text/plain": [
       "Samid\n",
       "SOAD0280    2576\n",
       "SOAD0283    2420\n",
       "SOPR0291    2338\n",
       "SOAD0509    2306\n",
       "SOPR0240    2098\n",
       "            ... \n",
       "SOPR0551     214\n",
       "SOAD0236     213\n",
       "SOAD0034     213\n",
       "PR0131       210\n",
       "SOPR0357     208\n",
       "Length: 1086, dtype: int64"
      ]
     },
     "execution_count": 7,
     "metadata": {},
     "output_type": "execute_result"
    }
   ],
   "source": [
    "patient_dgenes = genepy_bin_97_5.sum(axis=1).sort_values(ascending=False)\n",
    "patient_dgenes #.rename('total_disease_genes')"
   ]
  },
  {
   "cell_type": "code",
   "execution_count": 39,
   "id": "afc01b4c-a792-4516-b5f2-de11d3c39029",
   "metadata": {},
   "outputs": [
    {
     "data": {
      "text/plain": [
       "IID\n",
       "AP0013    CD\n",
       "Name: Diagnosis, dtype: object"
      ]
     },
     "execution_count": 39,
     "metadata": {},
     "output_type": "execute_result"
    }
   ],
   "source": [
    "get_data.patient_phenotype[get_data.patient_phenotype.index == 'AP0013']['Diagnosis']"
   ]
  },
  {
   "cell_type": "code",
   "execution_count": 31,
   "id": "dfbb5761-bfb9-4f90-ae64-5d1686f11fbf",
   "metadata": {},
   "outputs": [
    {
     "data": {
      "text/plain": [
       "A1BG        11\n",
       "RFX5        11\n",
       "GTPBP6      11\n",
       "RFXANK      11\n",
       "RFX8        11\n",
       "            ..\n",
       "ZNF677       0\n",
       "RPS11        0\n",
       "HSP90AB1     0\n",
       "ZNF683       0\n",
       "MAIP1        0\n",
       "Length: 16794, dtype: int64"
      ]
     },
     "execution_count": 31,
     "metadata": {},
     "output_type": "execute_result"
    }
   ],
   "source": [
    "genepy_bin_99.sum(axis=0).sort_values(ascending=False)"
   ]
  },
  {
   "cell_type": "code",
   "execution_count": 27,
   "id": "6579f630-66b2-494d-8b27-680c5da0bd7a",
   "metadata": {},
   "outputs": [
    {
     "data": {
      "text/plain": [
       "Samid\n",
       "SOAD0039    2.585178\n",
       "SOAD0086    2.531930\n",
       "SOAD0616    2.531930\n",
       "SOAD0431    2.372489\n",
       "SOAD0004    2.312618\n",
       "SORL0040    2.312618\n",
       "SOAD0152    2.146457\n",
       "SOAD0601    2.011227\n",
       "SOPR0240    2.000176\n",
       "SOAD0508    1.939445\n",
       "SOPR0452    1.892958\n",
       "SOPR0291    1.881538\n",
       "PR0124      1.470259\n",
       "SOAD0178    1.316227\n",
       "SOAD0229    1.148869\n",
       "Name: ZYX, dtype: float64"
      ]
     },
     "execution_count": 27,
     "metadata": {},
     "output_type": "execute_result"
    }
   ],
   "source": [
    "genepy_df['ZYX'].sort_values(ascending=False).head(15)"
   ]
  },
  {
   "cell_type": "code",
   "execution_count": 25,
   "id": "ef4d83a8-f44e-4c72-aa03-f629fc296dd3",
   "metadata": {},
   "outputs": [
    {
     "data": {
      "text/plain": [
       "1.8832512254498797"
      ]
     },
     "execution_count": 25,
     "metadata": {},
     "output_type": "execute_result"
    }
   ],
   "source": [
    "np.percentile(genepy_df['ZYX'],99)"
   ]
  },
  {
   "cell_type": "code",
   "execution_count": 28,
   "id": "4e58bc09-696e-444a-9f8b-8484a5fa2942",
   "metadata": {},
   "outputs": [
    {
     "data": {
      "text/plain": [
       "Samid\n",
       "SOAD0616    1\n",
       "SORL0040    1\n",
       "SOAD0152    1\n",
       "SOAD0601    1\n",
       "SOAD0086    1\n",
       "SOAD0508    1\n",
       "SOPR0452    1\n",
       "SOAD0431    1\n",
       "SOAD0039    1\n",
       "SOPR0240    1\n",
       "SOAD0004    1\n",
       "AP0013      0\n",
       "SOAD0577    0\n",
       "SOAD0578    0\n",
       "SOAD0575    0\n",
       "Name: ZYX, dtype: int64"
      ]
     },
     "execution_count": 28,
     "metadata": {},
     "output_type": "execute_result"
    }
   ],
   "source": [
    "genepy_bin_99['ZYX'].sort_values(ascending=False).head(15)"
   ]
  },
  {
   "cell_type": "markdown",
   "id": "cb723299-df74-453a-b48c-c5ad82975248",
   "metadata": {},
   "source": [
    "## For binerising scores generating"
   ]
  },
  {
   "cell_type": "code",
   "execution_count": 5,
   "id": "d6d18215-feee-4da5-a325-0f3cf7eee04c",
   "metadata": {},
   "outputs": [],
   "source": [
    "def binerise_series(X, percent=95):\n",
    "    arr1 = []\n",
    "    percentile = np.percentile(X,percent)\n",
    "    for row in X:\n",
    "        if row > percentile:\n",
    "            arr1.append(1)\n",
    "        else:\n",
    "            arr1.append(0)\n",
    "    return arr1\n",
    "\n"
   ]
  },
  {
   "cell_type": "markdown",
   "id": "6b0133c4-7107-4acb-a1b1-fb8f6a3ec368",
   "metadata": {},
   "source": [
    "### Genepy Dataframes Binerised"
   ]
  },
  {
   "cell_type": "code",
   "execution_count": 6,
   "id": "51d07027-09ea-40f2-b8d6-e25a8f6fe251",
   "metadata": {},
   "outputs": [],
   "source": [
    "genepy_bin_95 = genepy_df.apply(binerise_series,0)\n",
    "genepy_bin_99 = genepy_df.apply(binerise_series,0,percent=99)"
   ]
  },
  {
   "cell_type": "code",
   "execution_count": 7,
   "id": "bd424277-f63b-485b-923b-f7885f7d9fc6",
   "metadata": {},
   "outputs": [],
   "source": [
    "genepy_bin_80 = genepy_df.apply(binerise_series,0,percent=80)"
   ]
  },
  {
   "cell_type": "markdown",
   "id": "73a7de5e-f51a-40aa-bdbd-3dbbba235c6e",
   "metadata": {},
   "source": [
    "### CD and UC subsets binerised"
   ]
  },
  {
   "cell_type": "code",
   "execution_count": 8,
   "id": "51996cdb-69f0-4b9f-9ca9-29587f853dcb",
   "metadata": {},
   "outputs": [],
   "source": [
    "import get_data\n",
    "CD_bin_95 = get_data.get_diagnosis_df(genepy_bin_95, 'CD')\n",
    "UC_bin_95 = get_data.get_diagnosis_df(genepy_bin_95, 'UC')\n",
    "\n",
    "CD_bin_99 = get_data.get_diagnosis_df(genepy_bin_99, 'CD')\n",
    "UC_bin_99 = get_data.get_diagnosis_df(genepy_bin_99, 'UC')"
   ]
  },
  {
   "cell_type": "code",
   "execution_count": 9,
   "id": "459fda07-a309-45dd-a186-cf6f59ae2734",
   "metadata": {},
   "outputs": [],
   "source": [
    "CD_bin_80 = get_data.get_diagnosis_df(genepy_bin_80, 'CD')\n",
    "UC_bin_80 = get_data.get_diagnosis_df(genepy_bin_80, 'UC')\n"
   ]
  },
  {
   "cell_type": "code",
   "execution_count": 10,
   "id": "f1ae5c4d-828d-4ae2-a038-abdab3ed9252",
   "metadata": {},
   "outputs": [],
   "source": [
    "SOAD0511 = CD_bin_95.loc['SOAD0511',:]\n",
    "SOAD0511_80 = CD_bin_80.loc['SOAD0511',:]\n",
    "SOAD0511[SOAD0511>0].to_csv('SOAD0511_95.csv')"
   ]
  },
  {
   "cell_type": "code",
   "execution_count": 14,
   "id": "32af2ac1-fd96-4e48-9ec1-e38f3e82f294",
   "metadata": {},
   "outputs": [],
   "source": [
    "SOAD0511_99 = CD_bin_99.loc['SOAD0511',:]\n",
    "SOAD0511_99[SOAD0511_99>0].to_csv('SOAD0511_99.csv')"
   ]
  },
  {
   "cell_type": "code",
   "execution_count": 8,
   "id": "67d07456-1ebf-4a6a-a36d-a5f2ac387f98",
   "metadata": {},
   "outputs": [
    {
     "name": "stdout",
     "output_type": "stream",
     "text": [
      "Number of patients with NOD2 with top 5%: 54\n",
      "Number of patients with NOD2 with top 1%: 11\n",
      "Number of patients with NOD2 with top 5% that are CD: 47\n",
      "Number of patients with NOD2 with top 5% that are UC: 6\n",
      "Number of patients with NOD2 with top 1% that are CD: 10\n",
      "Number of patients with NOD2 with top 1% that are UC: 1\n"
     ]
    }
   ],
   "source": [
    "print(\"Number of patients with NOD2 with top 5%: \" + str(genepy_bin_95['NOD2'].sum()))\n",
    "print(\"Number of patients with NOD2 with top 1%: \" + str(genepy_bin_99['NOD2'].sum()))\n",
    "\n",
    "print(\"Number of patients with NOD2 with top 5% that are CD: \" + str(CD_bin_95['NOD2'].sum()))\n",
    "print(\"Number of patients with NOD2 with top 5% that are UC: \" + str(UC_bin_95['NOD2'].sum()))\n",
    "\n",
    "print(\"Number of patients with NOD2 with top 1% that are CD: \" + str(CD_bin_99['NOD2'].sum()))\n",
    "print(\"Number of patients with NOD2 with top 1% that are UC: \" + str(UC_bin_99['NOD2'].sum()))"
   ]
  },
  {
   "cell_type": "code",
   "execution_count": 34,
   "id": "0fe5a773-2666-4c44-bde1-9a6107b85521",
   "metadata": {},
   "outputs": [
    {
     "ename": "SyntaxError",
     "evalue": "unexpected EOF while parsing (2926274938.py, line 1)",
     "output_type": "error",
     "traceback": [
      "\u001b[0;36m  File \u001b[0;32m\"/var/folders/vr/l3nh06095r77bwy94f2wh_jc0000gn/T/ipykernel_33989/2926274938.py\"\u001b[0;36m, line \u001b[0;32m1\u001b[0m\n\u001b[0;31m    genepy_bin_95.sum()[genepy_bin_95.sum().sort_values(ascending=False).head(40)\u001b[0m\n\u001b[0m                                                                                 ^\u001b[0m\n\u001b[0;31mSyntaxError\u001b[0m\u001b[0;31m:\u001b[0m unexpected EOF while parsing\n"
     ]
    }
   ],
   "source": [
    "genepy_bin_95.sum()[genepy_bin_95.sum()<1086].sort_values(ascending=False).head(40)"
   ]
  },
  {
   "cell_type": "code",
   "execution_count": 38,
   "id": "a0becf54-4756-4ca9-a289-5238c20cc451",
   "metadata": {},
   "outputs": [
    {
     "data": {
      "text/plain": [
       "PAPPA2       55\n",
       "TNFRSF21     55\n",
       "PRAM1        55\n",
       "TNFRSF1A     55\n",
       "C12orf56     55\n",
       "GFAP         55\n",
       "RFX1         55\n",
       "GEN1         55\n",
       "TNFRSF4      55\n",
       "PRDM15       55\n",
       "ZNF169       55\n",
       "TNIK         55\n",
       "SF3B1        55\n",
       "GCN1         55\n",
       "TNN          55\n",
       "RFTN2        55\n",
       "GGCX         55\n",
       "GGH          55\n",
       "GGT6         55\n",
       "SFI1         55\n",
       "GIMD1        55\n",
       "C11orf94     55\n",
       "GJB5         55\n",
       "TNFAIP2      55\n",
       "TNC          55\n",
       "C11orf54     55\n",
       "GLB1L2       55\n",
       "GLB1L3       55\n",
       "GLCE         55\n",
       "GLDC         55\n",
       "GLIS1        55\n",
       "GLIS3        55\n",
       "GLOD4        55\n",
       "GCKR         55\n",
       "TNNI2        55\n",
       "POSTN        55\n",
       "GAD2         55\n",
       "GAK          55\n",
       "TNS1         55\n",
       "SEZ6L        55\n",
       "TNS2         55\n",
       "C19orf81     55\n",
       "TNS3         55\n",
       "C1GALT1C1    55\n",
       "GC           55\n",
       "GABRB1       55\n",
       "SETX         55\n",
       "ZNF114       55\n",
       "GAA          55\n",
       "PREX2        55\n",
       "dtype: int64"
      ]
     },
     "execution_count": 38,
     "metadata": {},
     "output_type": "execute_result"
    }
   ],
   "source": [
    "genepy_bin_95.sum().sort_values(ascending=False).head(50)"
   ]
  },
  {
   "cell_type": "code",
   "execution_count": 51,
   "id": "2e344b34-6a48-44b4-8f88-51b70b031930",
   "metadata": {},
   "outputs": [
    {
     "name": "stdout",
     "output_type": "stream",
     "text": [
      "4.383404188329179\n"
     ]
    },
    {
     "data": {
      "text/plain": [
       "Samid\n",
       "SOPR0401    7.473334\n",
       "SORL0032    6.164264\n",
       "SOPR0393    5.760331\n",
       "SOPR0356    5.220091\n",
       "PR0074      5.178640\n",
       "              ...   \n",
       "SOAD0163    1.133014\n",
       "SOPR0449    1.133014\n",
       "PR0058      1.133014\n",
       "SOAD0378    1.133014\n",
       "SOAD0583    1.133014\n",
       "Name: NOD2, Length: 600, dtype: float64"
      ]
     },
     "execution_count": 51,
     "metadata": {},
     "output_type": "execute_result"
    }
   ],
   "source": [
    "print(np.percentile(genepy_df['NOD2'],99))\n",
    "\n",
    "genepy_df['NOD2'].sort_values(ascending=False).head(600)"
   ]
  },
  {
   "cell_type": "code",
   "execution_count": 52,
   "id": "73373225-36d9-48af-aab3-025b15d2d878",
   "metadata": {},
   "outputs": [
    {
     "data": {
      "text/plain": [
       "CTPS2       1\n",
       "RARG        1\n",
       "ROS1        1\n",
       "LIPH        1\n",
       "CFLAR       1\n",
       "CFP         1\n",
       "INS-IGF2    1\n",
       "FAM3B       1\n",
       "OR5D14      1\n",
       "CGN         1\n",
       "KIAA2012    1\n",
       "DPF3        1\n",
       "ROCK1       1\n",
       "VSTM5       1\n",
       "MC5R        1\n",
       "SKOR1       1\n",
       "CAMSAP1     1\n",
       "TMPRSS4     1\n",
       "ZNF276      1\n",
       "INPP5B      1\n",
       "Name: SOAD0367, dtype: int64"
      ]
     },
     "execution_count": 52,
     "metadata": {},
     "output_type": "execute_result"
    }
   ],
   "source": [
    "genepy_bin_95.loc['SOAD0367'].sort_values(ascending=False).head(20)"
   ]
  },
  {
   "cell_type": "markdown",
   "id": "9f8b693f-84b0-4580-9a78-fbcd01e0fe9a",
   "metadata": {
    "tags": []
   },
   "source": [
    "### CD and UC subset to CSV\n"
   ]
  },
  {
   "cell_type": "code",
   "execution_count": null,
   "id": "0fc448bb-6e22-406f-a594-5fc33e189da4",
   "metadata": {},
   "outputs": [],
   "source": [
    "## Raw genepy scores\n",
    "CD_genepy = get_data.get_diagnosis_df(genepy_df, 'CD')\n",
    "CD_genepy.T.to_csv(\"../Data/CD_genepy.csv\")\n",
    "UC_genepy = get_data.get_diagnosis_df(genepy_df, 'UC')\n",
    "UC_genepy.T.to_csv(\"../Data/UC_genepy.csv\")"
   ]
  },
  {
   "cell_type": "code",
   "execution_count": 45,
   "id": "de7e8b62-afde-4ae0-bb57-c513878c558a",
   "metadata": {},
   "outputs": [],
   "source": [
    "## Binerised scores\n",
    "CD_bin_95.T.to_csv(\"../Data/CD_bin_95.txt\", sep='\\t')\n",
    "UC_bin_95.T.to_csv(\"../Data/UC_bin_95.txt\", sep='\\t')"
   ]
  },
  {
   "cell_type": "code",
   "execution_count": 52,
   "id": "2ca7da41-1bf3-4b4f-896f-b28cee23c5c2",
   "metadata": {},
   "outputs": [],
   "source": [
    "# series of top scores \n",
    "CD_bin_95_sum = CD_bin_95.sum().sort_values(ascending=False)\n",
    "UC_bin_95_sum = UC_bin_95.sum().sort_values(ascending=False)\n",
    "\n",
    "CD_bin_99_sum = CD_bin_99.sum().sort_values(ascending=False)\n",
    "UC_bin_99_sum = UC_bin_99.sum().sort_values(ascending=False)\n",
    "\n",
    "\n",
    "## Remove any 0 values - still like 16000\n",
    "CD_bin_95_sum[CD_bin_95_sum>0]\n",
    "UC_bin_95_sum[UC_bin_95_sum>0]\n",
    "\n",
    "CD_bin_95_sum.head(120)"
   ]
  },
  {
   "cell_type": "code",
   "execution_count": 19,
   "id": "58c3916f-f999-4996-ba99-095eb492f67b",
   "metadata": {},
   "outputs": [
    {
     "data": {
      "text/plain": [
       "NOD2         165\n",
       "OTOGL        156\n",
       "ZNF80        155\n",
       "ACSM6        155\n",
       "HUNK         153\n",
       "SIPA1L3      152\n",
       "MGAT4C       151\n",
       "MICAL2       151\n",
       "GALNT18      151\n",
       "ADAMTS14     150\n",
       "PIEZO2       150\n",
       "ARHGEF10L    150\n",
       "EML6         150\n",
       "FAM114A1     150\n",
       "THSD7B       149\n",
       "CHD5         149\n",
       "ACADM        149\n",
       "TNS2         149\n",
       "CETN3        149\n",
       "GPR151       149\n",
       "NT5DC3       149\n",
       "PLIN4        149\n",
       "ALMS1        149\n",
       "ZC3H4        149\n",
       "SDCBP2       149\n",
       "PCLO         149\n",
       "COL9A3       148\n",
       "ANXA1        148\n",
       "MRO          148\n",
       "GLP2R        148\n",
       "dtype: int64"
      ]
     },
     "execution_count": 19,
     "metadata": {},
     "output_type": "execute_result"
    }
   ],
   "source": [
    "CD_bin_80.sum().sort_values(ascending=False).head(30)"
   ]
  },
  {
   "cell_type": "code",
   "execution_count": 46,
   "id": "c35335fc-53b7-4289-b747-391f59f52d9d",
   "metadata": {},
   "outputs": [],
   "source": [
    "CD_bin_95_sum.to_csv(\"../Data/CD_bin_95_sum.txt\", sep='\\t')\n",
    "UC_bin_95_sum.to_csv(\"../Data/UC_bin_95_sum.txt\",sep='\\t')"
   ]
  },
  {
   "cell_type": "markdown",
   "id": "50622e51-b9a8-43fa-8e7f-c2d36f218a05",
   "metadata": {},
   "source": [
    "## Plots"
   ]
  },
  {
   "cell_type": "code",
   "execution_count": 68,
   "id": "1b7fdf1f-478c-4075-8a5c-a25544b05137",
   "metadata": {},
   "outputs": [],
   "source": [
    "import seaborn as sns\n",
    "import matplotlib.pyplot as plt\n",
    "\n",
    "sns.set(rc = {'figure.figsize':(40,30)})\n",
    "\n",
    "def pathway_genes(file):\n",
    "    my_file = open(file, \"r\")\n",
    "    data = my_file.read()\n",
    "    data_list = data.split(\"\\n\")\n",
    "    return(data_list)"
   ]
  },
  {
   "cell_type": "code",
   "execution_count": 69,
   "id": "bf87fb53-a225-4d18-9033-723f067301e6",
   "metadata": {},
   "outputs": [
    {
     "data": {
      "text/plain": [
       "<AxesSubplot:xlabel='IID'>"
      ]
     },
     "execution_count": 69,
     "metadata": {},
     "output_type": "execute_result"
    },
    {
     "data": {
      "image/png": "[encoded data removed]",
      "text/plain": [
       "<Figure size 2880x2160 with 2 Axes>"
      ]
     },
     "metadata": {},
     "output_type": "display_data"
    }
   ],
   "source": [
    "sorted_sub = CD_bin_95.sort_values(by=['NOD2'])\n",
    "\n",
    "NOD2_ass = pathway_genes(\"../Data/NOD2_associated.txt\")\n",
    "sub_NOD2 = sorted_sub.loc[:, sorted_sub.columns.isin(NOD2_ass)]\n",
    "\n",
    "sns.heatmap(sub_NOD2.transpose())\n"
   ]
  },
  {
   "cell_type": "code",
   "execution_count": 70,
   "id": "679e5ef1-63e8-45fb-b910-89ed346547de",
   "metadata": {},
   "outputs": [],
   "source": [
    "genepy_df.to_csv(\"../Data/genepy.csv\")"
   ]
  },
  {
   "cell_type": "code",
   "execution_count": 72,
   "id": "5fc7d5f0-5495-4efa-8b8e-5f25653e9efd",
   "metadata": {},
   "outputs": [],
   "source": [
    "from get_data import genepy_normalized, genepy_norm_loeuf\n",
    "genepy_bin_95.to_csv(\"../R/genepy_bin_95.csv\")\n",
    "genepy_bin_99.to_csv(\"../R/genepy_bin_99.csv\")\n",
    "genepy_normalized.to_csv(\"../R/genepy_normalised.csv\")\n",
    "genepy_norm_loeuf.to_csv(\"../R/genepy_norm_loeuf.csv\")"
   ]
  },
  {
   "cell_type": "markdown",
   "id": "f7b35838-319d-4389-a927-2e4ac6c329df",
   "metadata": {},
   "source": [
    "## testing"
   ]
  },
  {
   "cell_type": "code",
   "execution_count": 51,
   "id": "fd00510b-445c-4735-b5a1-9d6cbb4df0fe",
   "metadata": {},
   "outputs": [],
   "source": [
    "import get_data\n",
    "\n",
    "genepy_bin_95 = get_data.binerise_genepy(percent=95)\n",
    "genepy_bin_97_5 = get_data.binerise_genepy(percent=97.5)\n",
    "genepy_bin_99 = get_data.binerise_genepy(percent=99)"
   ]
  },
  {
   "cell_type": "code",
   "execution_count": 2,
   "id": "145dcd09-e4cf-40a3-90be-37757596315c",
   "metadata": {},
   "outputs": [],
   "source": [
    "CD_bin_95 = get_data.get_diagnosis_df(genepy_bin_95, 'CD')\n",
    "UC_bin_95 = get_data.get_diagnosis_df(genepy_bin_95, 'UC')\n",
    "\n",
    "CD_bin_97_5 = get_data.get_diagnosis_df(genepy_bin_97_5, 'CD')\n",
    "UC_bin_97_5 = get_data.get_diagnosis_df(genepy_bin_97_5, 'UC')\n",
    "\n",
    "CD_bin_99 = get_data.get_diagnosis_df(genepy_bin_99, 'CD')\n",
    "UC_bin_99 = get_data.get_diagnosis_df(genepy_bin_99, 'UC')"
   ]
  },
  {
   "cell_type": "code",
   "execution_count": 19,
   "id": "168d66a5-fcec-4109-8091-316b1f7e9e28",
   "metadata": {},
   "outputs": [
    {
     "data": {
      "text/plain": [
       "NOD2        47\n",
       "CFAP58      47\n",
       "ATP7B       45\n",
       "CRYBG2      45\n",
       "PDZD7       45\n",
       "CFAP44      44\n",
       "TMPRSS6     44\n",
       "ALG8        44\n",
       "COL15A1     43\n",
       "USP53       43\n",
       "B4GALNT2    43\n",
       "ACTN4       43\n",
       "CCDC183     43\n",
       "THBS2       43\n",
       "ADAM8       43\n",
       "MRC1        43\n",
       "NIPBL       43\n",
       "FLT1        43\n",
       "CRB2        43\n",
       "CAPN10      43\n",
       "AP3D1       43\n",
       "PTPRQ       42\n",
       "BOP1        42\n",
       "FNDC3B      42\n",
       "TSPAN9      42\n",
       "GPAM        42\n",
       "ERICH6B     42\n",
       "COG6        42\n",
       "CD207       42\n",
       "COL5A3      42\n",
       "dtype: int64"
      ]
     },
     "execution_count": 19,
     "metadata": {},
     "output_type": "execute_result"
    }
   ],
   "source": [
    "def get_matching_UC(CD_matrix, UC_matrix):\n",
    "    '''\n",
    "    return matching UC genes\n",
    "    '''\n",
    "    return(UC_matrix[CD_matrix.sum().sort_values(ascending=False).head(30).index].sum())\n",
    "CD_bin_95.sum().sort_values(ascending=False).head(30)"
   ]
  },
  {
   "cell_type": "code",
   "execution_count": 24,
   "id": "266737d4-6b1c-46ed-a99a-6312f49461cb",
   "metadata": {},
   "outputs": [
    {
     "data": {
      "text/html": [
       "<div>\n",
       "<style scoped>\n",
       "    .dataframe tbody tr th:only-of-type {\n",
       "        vertical-align: middle;\n",
       "    }\n",
       "\n",
       "    .dataframe tbody tr th {\n",
       "        vertical-align: top;\n",
       "    }\n",
       "\n",
       "    .dataframe thead th {\n",
       "        text-align: right;\n",
       "    }\n",
       "</style>\n",
       "<table border=\"1\" class=\"dataframe\">\n",
       "  <thead>\n",
       "    <tr style=\"text-align: right;\">\n",
       "      <th></th>\n",
       "      <th>CD_Cohort</th>\n",
       "      <th>UC_Cohort</th>\n",
       "    </tr>\n",
       "  </thead>\n",
       "  <tbody>\n",
       "    <tr>\n",
       "      <th>A1BG</th>\n",
       "      <td>11</td>\n",
       "      <td>0</td>\n",
       "    </tr>\n",
       "    <tr>\n",
       "      <th>TTLL10</th>\n",
       "      <td>11</td>\n",
       "      <td>0</td>\n",
       "    </tr>\n",
       "    <tr>\n",
       "      <th>TPGS1</th>\n",
       "      <td>11</td>\n",
       "      <td>0</td>\n",
       "    </tr>\n",
       "    <tr>\n",
       "      <th>TNIK</th>\n",
       "      <td>11</td>\n",
       "      <td>0</td>\n",
       "    </tr>\n",
       "    <tr>\n",
       "      <th>ARMC5</th>\n",
       "      <td>11</td>\n",
       "      <td>0</td>\n",
       "    </tr>\n",
       "    <tr>\n",
       "      <th>EIF2AK4</th>\n",
       "      <td>11</td>\n",
       "      <td>0</td>\n",
       "    </tr>\n",
       "    <tr>\n",
       "      <th>ASB6</th>\n",
       "      <td>11</td>\n",
       "      <td>0</td>\n",
       "    </tr>\n",
       "    <tr>\n",
       "      <th>TECTA</th>\n",
       "      <td>11</td>\n",
       "      <td>0</td>\n",
       "    </tr>\n",
       "    <tr>\n",
       "      <th>DRP2</th>\n",
       "      <td>11</td>\n",
       "      <td>0</td>\n",
       "    </tr>\n",
       "    <tr>\n",
       "      <th>MAML1</th>\n",
       "      <td>11</td>\n",
       "      <td>0</td>\n",
       "    </tr>\n",
       "    <tr>\n",
       "      <th>DLD</th>\n",
       "      <td>11</td>\n",
       "      <td>0</td>\n",
       "    </tr>\n",
       "    <tr>\n",
       "      <th>MIR4293</th>\n",
       "      <td>11</td>\n",
       "      <td>0</td>\n",
       "    </tr>\n",
       "    <tr>\n",
       "      <th>MN1</th>\n",
       "      <td>11</td>\n",
       "      <td>0</td>\n",
       "    </tr>\n",
       "    <tr>\n",
       "      <th>SLITRK1</th>\n",
       "      <td>11</td>\n",
       "      <td>0</td>\n",
       "    </tr>\n",
       "    <tr>\n",
       "      <th>CSRNP2</th>\n",
       "      <td>11</td>\n",
       "      <td>0</td>\n",
       "    </tr>\n",
       "    <tr>\n",
       "      <th>SLC25A26</th>\n",
       "      <td>11</td>\n",
       "      <td>0</td>\n",
       "    </tr>\n",
       "    <tr>\n",
       "      <th>SLAIN1</th>\n",
       "      <td>11</td>\n",
       "      <td>0</td>\n",
       "    </tr>\n",
       "    <tr>\n",
       "      <th>OR4X1</th>\n",
       "      <td>11</td>\n",
       "      <td>0</td>\n",
       "    </tr>\n",
       "    <tr>\n",
       "      <th>PAN3</th>\n",
       "      <td>11</td>\n",
       "      <td>0</td>\n",
       "    </tr>\n",
       "    <tr>\n",
       "      <th>ACCSL</th>\n",
       "      <td>11</td>\n",
       "      <td>0</td>\n",
       "    </tr>\n",
       "    <tr>\n",
       "      <th>PDZD7</th>\n",
       "      <td>11</td>\n",
       "      <td>0</td>\n",
       "    </tr>\n",
       "    <tr>\n",
       "      <th>PHLPP1</th>\n",
       "      <td>11</td>\n",
       "      <td>0</td>\n",
       "    </tr>\n",
       "    <tr>\n",
       "      <th>ZNF35</th>\n",
       "      <td>11</td>\n",
       "      <td>0</td>\n",
       "    </tr>\n",
       "    <tr>\n",
       "      <th>RGMB</th>\n",
       "      <td>11</td>\n",
       "      <td>0</td>\n",
       "    </tr>\n",
       "    <tr>\n",
       "      <th>CFAP69</th>\n",
       "      <td>11</td>\n",
       "      <td>0</td>\n",
       "    </tr>\n",
       "    <tr>\n",
       "      <th>ZNF470</th>\n",
       "      <td>11</td>\n",
       "      <td>0</td>\n",
       "    </tr>\n",
       "    <tr>\n",
       "      <th>POMGNT1</th>\n",
       "      <td>11</td>\n",
       "      <td>0</td>\n",
       "    </tr>\n",
       "    <tr>\n",
       "      <th>TRIM62</th>\n",
       "      <td>11</td>\n",
       "      <td>0</td>\n",
       "    </tr>\n",
       "    <tr>\n",
       "      <th>MTFMT</th>\n",
       "      <td>11</td>\n",
       "      <td>0</td>\n",
       "    </tr>\n",
       "    <tr>\n",
       "      <th>HDAC7</th>\n",
       "      <td>11</td>\n",
       "      <td>0</td>\n",
       "    </tr>\n",
       "  </tbody>\n",
       "</table>\n",
       "</div>"
      ],
      "text/plain": [
       "          CD_Cohort  UC_Cohort\n",
       "A1BG             11          0\n",
       "TTLL10           11          0\n",
       "TPGS1            11          0\n",
       "TNIK             11          0\n",
       "ARMC5            11          0\n",
       "EIF2AK4          11          0\n",
       "ASB6             11          0\n",
       "TECTA            11          0\n",
       "DRP2             11          0\n",
       "MAML1            11          0\n",
       "DLD              11          0\n",
       "MIR4293          11          0\n",
       "MN1              11          0\n",
       "SLITRK1          11          0\n",
       "CSRNP2           11          0\n",
       "SLC25A26         11          0\n",
       "SLAIN1           11          0\n",
       "OR4X1            11          0\n",
       "PAN3             11          0\n",
       "ACCSL            11          0\n",
       "PDZD7            11          0\n",
       "PHLPP1           11          0\n",
       "ZNF35            11          0\n",
       "RGMB             11          0\n",
       "CFAP69           11          0\n",
       "ZNF470           11          0\n",
       "POMGNT1          11          0\n",
       "TRIM62           11          0\n",
       "MTFMT            11          0\n",
       "HDAC7            11          0"
      ]
     },
     "execution_count": 24,
     "metadata": {},
     "output_type": "execute_result"
    }
   ],
   "source": [
    "get_matching_UC(CD_bin_95,UC_bin_95)\n",
    "\n",
    "def get_matching_as_datafrane(CD_matrix, UC_matrix):\n",
    "    CD_series = CD_matrix.sum().sort_values(ascending=False).head(30).rename(\"CD_Cohort\")\n",
    "    UC_series = get_matching_UC(CD_matrix,UC_matrix).rename(\"UC_Cohort\")\n",
    "    return(pd.merge(CD_series, UC_series,left_index=True,right_index=True))\n",
    "\n",
    "get_matching_as_datafrane(CD_bin_95,UC_bin_95)\n",
    "get_matching_as_datafrane(CD_bin_99,UC_bin_99)"
   ]
  },
  {
   "cell_type": "code",
   "execution_count": 16,
   "id": "101b3947-3630-4f3a-9346-a75048ad6ad3",
   "metadata": {},
   "outputs": [
    {
     "data": {
      "text/plain": [
       "A1BG        0\n",
       "TTLL10      0\n",
       "TPGS1       0\n",
       "TNIK        0\n",
       "ARMC5       0\n",
       "EIF2AK4     0\n",
       "ASB6        0\n",
       "TECTA       0\n",
       "DRP2        0\n",
       "MAML1       0\n",
       "DLD         0\n",
       "MIR4293     0\n",
       "MN1         0\n",
       "SLITRK1     0\n",
       "CSRNP2      0\n",
       "SLC25A26    0\n",
       "SLAIN1      0\n",
       "OR4X1       0\n",
       "PAN3        0\n",
       "ACCSL       0\n",
       "PDZD7       0\n",
       "PHLPP1      0\n",
       "ZNF35       0\n",
       "RGMB        0\n",
       "CFAP69      0\n",
       "ZNF470      0\n",
       "POMGNT1     0\n",
       "TRIM62      0\n",
       "MTFMT       0\n",
       "HDAC7       0\n",
       "dtype: int64"
      ]
     },
     "execution_count": 16,
     "metadata": {},
     "output_type": "execute_result"
    }
   ],
   "source": [
    "UC_bin_99[CD_bin_99.sum().sort_values(ascending=False).head(30).index].sum()"
   ]
  },
  {
   "cell_type": "code",
   "execution_count": 32,
   "id": "648e209b-e3b2-4b1f-939c-544863bb32b0",
   "metadata": {},
   "outputs": [
    {
     "data": {
      "text/plain": [
       "NOD2        6.901615\n",
       "CFAP58      6.901615\n",
       "ATP7B       6.607930\n",
       "CRYBG2      6.607930\n",
       "PDZD7       6.607930\n",
       "CFAP44      6.461087\n",
       "TMPRSS6     6.461087\n",
       "ALG8        6.461087\n",
       "COL15A1     6.314244\n",
       "USP53       6.314244\n",
       "B4GALNT2    6.314244\n",
       "ACTN4       6.314244\n",
       "CCDC183     6.314244\n",
       "THBS2       6.314244\n",
       "ADAM8       6.314244\n",
       "MRC1        6.314244\n",
       "NIPBL       6.314244\n",
       "FLT1        6.314244\n",
       "CRB2        6.314244\n",
       "CAPN10      6.314244\n",
       "AP3D1       6.314244\n",
       "PTPRQ       6.167401\n",
       "BOP1        6.167401\n",
       "FNDC3B      6.167401\n",
       "TSPAN9      6.167401\n",
       "GPAM        6.167401\n",
       "ERICH6B     6.167401\n",
       "COG6        6.167401\n",
       "CD207       6.167401\n",
       "COL5A3      6.167401\n",
       "dtype: float64"
      ]
     },
     "execution_count": 32,
     "metadata": {},
     "output_type": "execute_result"
    }
   ],
   "source": [
    "def get_as_percentage(matrix, cohort):\n",
    "    top_series = get_top_bin_sum(matrix)\n",
    "    if cohort == 'CD':\n",
    "        return((top_series/681)*100)\n",
    "    elif cohort == 'UC':\n",
    "        return((top_series/368)*100)\n",
    "    else:\n",
    "        return(print(\"incorrect cohort value, please use 'CD' or 'UC'\"))\n",
    "    return\n",
    "\n",
    "get_as_percentage(CD_bin_95, cohort=\"CD\")"
   ]
  },
  {
   "cell_type": "code",
   "execution_count": 4,
   "id": "192485aa-8176-4dde-939c-c835375e915e",
   "metadata": {},
   "outputs": [
    {
     "data": {
      "text/html": [
       "<div>\n",
       "<style scoped>\n",
       "    .dataframe tbody tr th:only-of-type {\n",
       "        vertical-align: middle;\n",
       "    }\n",
       "\n",
       "    .dataframe tbody tr th {\n",
       "        vertical-align: top;\n",
       "    }\n",
       "\n",
       "    .dataframe thead th {\n",
       "        text-align: right;\n",
       "    }\n",
       "</style>\n",
       "<table border=\"1\" class=\"dataframe\">\n",
       "  <thead>\n",
       "    <tr style=\"text-align: right;\">\n",
       "      <th></th>\n",
       "      <th>CD_Cohort</th>\n",
       "      <th>UC_Cohort</th>\n",
       "    </tr>\n",
       "  </thead>\n",
       "  <tbody>\n",
       "    <tr>\n",
       "      <th>A1BG</th>\n",
       "      <td>1.615272</td>\n",
       "      <td>0.0</td>\n",
       "    </tr>\n",
       "    <tr>\n",
       "      <th>TTLL10</th>\n",
       "      <td>1.615272</td>\n",
       "      <td>0.0</td>\n",
       "    </tr>\n",
       "    <tr>\n",
       "      <th>TPGS1</th>\n",
       "      <td>1.615272</td>\n",
       "      <td>0.0</td>\n",
       "    </tr>\n",
       "    <tr>\n",
       "      <th>TNIK</th>\n",
       "      <td>1.615272</td>\n",
       "      <td>0.0</td>\n",
       "    </tr>\n",
       "    <tr>\n",
       "      <th>ARMC5</th>\n",
       "      <td>1.615272</td>\n",
       "      <td>0.0</td>\n",
       "    </tr>\n",
       "    <tr>\n",
       "      <th>EIF2AK4</th>\n",
       "      <td>1.615272</td>\n",
       "      <td>0.0</td>\n",
       "    </tr>\n",
       "    <tr>\n",
       "      <th>ASB6</th>\n",
       "      <td>1.615272</td>\n",
       "      <td>0.0</td>\n",
       "    </tr>\n",
       "    <tr>\n",
       "      <th>TECTA</th>\n",
       "      <td>1.615272</td>\n",
       "      <td>0.0</td>\n",
       "    </tr>\n",
       "    <tr>\n",
       "      <th>DRP2</th>\n",
       "      <td>1.615272</td>\n",
       "      <td>0.0</td>\n",
       "    </tr>\n",
       "    <tr>\n",
       "      <th>MAML1</th>\n",
       "      <td>1.615272</td>\n",
       "      <td>0.0</td>\n",
       "    </tr>\n",
       "    <tr>\n",
       "      <th>DLD</th>\n",
       "      <td>1.615272</td>\n",
       "      <td>0.0</td>\n",
       "    </tr>\n",
       "    <tr>\n",
       "      <th>MIR4293</th>\n",
       "      <td>1.615272</td>\n",
       "      <td>0.0</td>\n",
       "    </tr>\n",
       "    <tr>\n",
       "      <th>MN1</th>\n",
       "      <td>1.615272</td>\n",
       "      <td>0.0</td>\n",
       "    </tr>\n",
       "    <tr>\n",
       "      <th>SLITRK1</th>\n",
       "      <td>1.615272</td>\n",
       "      <td>0.0</td>\n",
       "    </tr>\n",
       "    <tr>\n",
       "      <th>CSRNP2</th>\n",
       "      <td>1.615272</td>\n",
       "      <td>0.0</td>\n",
       "    </tr>\n",
       "    <tr>\n",
       "      <th>SLC25A26</th>\n",
       "      <td>1.615272</td>\n",
       "      <td>0.0</td>\n",
       "    </tr>\n",
       "    <tr>\n",
       "      <th>SLAIN1</th>\n",
       "      <td>1.615272</td>\n",
       "      <td>0.0</td>\n",
       "    </tr>\n",
       "    <tr>\n",
       "      <th>OR4X1</th>\n",
       "      <td>1.615272</td>\n",
       "      <td>0.0</td>\n",
       "    </tr>\n",
       "    <tr>\n",
       "      <th>PAN3</th>\n",
       "      <td>1.615272</td>\n",
       "      <td>0.0</td>\n",
       "    </tr>\n",
       "    <tr>\n",
       "      <th>ACCSL</th>\n",
       "      <td>1.615272</td>\n",
       "      <td>0.0</td>\n",
       "    </tr>\n",
       "    <tr>\n",
       "      <th>PDZD7</th>\n",
       "      <td>1.615272</td>\n",
       "      <td>0.0</td>\n",
       "    </tr>\n",
       "    <tr>\n",
       "      <th>PHLPP1</th>\n",
       "      <td>1.615272</td>\n",
       "      <td>0.0</td>\n",
       "    </tr>\n",
       "    <tr>\n",
       "      <th>ZNF35</th>\n",
       "      <td>1.615272</td>\n",
       "      <td>0.0</td>\n",
       "    </tr>\n",
       "    <tr>\n",
       "      <th>RGMB</th>\n",
       "      <td>1.615272</td>\n",
       "      <td>0.0</td>\n",
       "    </tr>\n",
       "    <tr>\n",
       "      <th>CFAP69</th>\n",
       "      <td>1.615272</td>\n",
       "      <td>0.0</td>\n",
       "    </tr>\n",
       "    <tr>\n",
       "      <th>ZNF470</th>\n",
       "      <td>1.615272</td>\n",
       "      <td>0.0</td>\n",
       "    </tr>\n",
       "    <tr>\n",
       "      <th>POMGNT1</th>\n",
       "      <td>1.615272</td>\n",
       "      <td>0.0</td>\n",
       "    </tr>\n",
       "    <tr>\n",
       "      <th>TRIM62</th>\n",
       "      <td>1.615272</td>\n",
       "      <td>0.0</td>\n",
       "    </tr>\n",
       "    <tr>\n",
       "      <th>MTFMT</th>\n",
       "      <td>1.615272</td>\n",
       "      <td>0.0</td>\n",
       "    </tr>\n",
       "    <tr>\n",
       "      <th>HDAC7</th>\n",
       "      <td>1.615272</td>\n",
       "      <td>0.0</td>\n",
       "    </tr>\n",
       "  </tbody>\n",
       "</table>\n",
       "</div>"
      ],
      "text/plain": [
       "          CD_Cohort  UC_Cohort\n",
       "A1BG       1.615272        0.0\n",
       "TTLL10     1.615272        0.0\n",
       "TPGS1      1.615272        0.0\n",
       "TNIK       1.615272        0.0\n",
       "ARMC5      1.615272        0.0\n",
       "EIF2AK4    1.615272        0.0\n",
       "ASB6       1.615272        0.0\n",
       "TECTA      1.615272        0.0\n",
       "DRP2       1.615272        0.0\n",
       "MAML1      1.615272        0.0\n",
       "DLD        1.615272        0.0\n",
       "MIR4293    1.615272        0.0\n",
       "MN1        1.615272        0.0\n",
       "SLITRK1    1.615272        0.0\n",
       "CSRNP2     1.615272        0.0\n",
       "SLC25A26   1.615272        0.0\n",
       "SLAIN1     1.615272        0.0\n",
       "OR4X1      1.615272        0.0\n",
       "PAN3       1.615272        0.0\n",
       "ACCSL      1.615272        0.0\n",
       "PDZD7      1.615272        0.0\n",
       "PHLPP1     1.615272        0.0\n",
       "ZNF35      1.615272        0.0\n",
       "RGMB       1.615272        0.0\n",
       "CFAP69     1.615272        0.0\n",
       "ZNF470     1.615272        0.0\n",
       "POMGNT1    1.615272        0.0\n",
       "TRIM62     1.615272        0.0\n",
       "MTFMT      1.615272        0.0\n",
       "HDAC7      1.615272        0.0"
      ]
     },
     "execution_count": 4,
     "metadata": {},
     "output_type": "execute_result"
    }
   ],
   "source": [
    "from binerised import get_matching_as_df_percentage\n",
    "\n",
    "\n",
    "get_matching_as_df_percentage(CD_bin_99, UC_bin_99)"
   ]
  },
  {
   "cell_type": "code",
   "execution_count": 52,
   "id": "1e63d455-ff1f-420f-87c9-2347b6a493b6",
   "metadata": {},
   "outputs": [],
   "source": [
    "import get_data\n",
    "CD_bin_95 = get_data.get_diagnosis_df(genepy_bin_95, 'CD')\n",
    "UC_bin_95 = get_data.get_diagnosis_df(genepy_bin_95, 'UC')\n",
    "\n",
    "CD_bin_97_5 = get_data.get_diagnosis_df(genepy_bin_97_5, 'CD')\n",
    "UC_bin_97_5 = get_data.get_diagnosis_df(genepy_bin_97_5, 'UC')\n",
    "\n",
    "CD_bin_99 = get_data.get_diagnosis_df(genepy_bin_99, 'CD')\n",
    "UC_bin_99 = get_data.get_diagnosis_df(genepy_bin_99, 'UC')"
   ]
  },
  {
   "cell_type": "code",
   "execution_count": 58,
   "id": "71b122bb-ca06-44ff-8b61-81397e538479",
   "metadata": {},
   "outputs": [],
   "source": [
    "import binerised\n",
    "\n",
    "CD97In = binerised.get_top_bin_sum(CD_bin_97_5, 20).index\n",
    "UC97In = binerised.get_top_bin_sum(UC_bin_97_5, 20).index\n",
    "\n",
    "CD99In = binerised.get_top_bin_sum(CD_bin_99, 20).index\n",
    "UC99In = binerised.get_top_bin_sum(UC_bin_99, 20).index"
   ]
  },
  {
   "cell_type": "code",
   "execution_count": 48,
   "id": "ebef5df0-d2d2-4956-976a-450bfcedb334",
   "metadata": {},
   "outputs": [],
   "source": [
    "def write_to_txt(genes, file_name):\n",
    "    with open(file_name+'genes.txt', 'w') as file_handler:\n",
    "        for item in genes:\n",
    "            file_handler.write(\"{}\\n\".format(item))\n"
   ]
  },
  {
   "cell_type": "code",
   "execution_count": 59,
   "id": "a46f5d08-977e-4871-be63-08ac233285b4",
   "metadata": {},
   "outputs": [],
   "source": [
    "write_to_txt(CD97In, 'CD97_20')\n",
    "write_to_txt(UC97In, 'UC97_20')\n",
    "\n",
    "write_to_txt(CD99In, 'CD99_20')\n",
    "write_to_txt(UC99In, 'UC99_20')"
   ]
  },
  {
   "cell_type": "code",
   "execution_count": null,
   "id": "28ba396c-11ef-4bb3-b8b0-39518ebcaa9b",
   "metadata": {},
   "outputs": [],
   "source": [
    ".sum().sort_values(ascending=False)"
   ]
  },
  {
   "cell_type": "markdown",
   "id": "ff8f874d-043c-4a9f-9571-9b0f63b36dbd",
   "metadata": {},
   "source": [
    "return all '1 genes' for a patient "
   ]
  },
  {
   "cell_type": "code",
   "execution_count": null,
   "id": "9f12f28f-f1f0-46c1-aafa-df69c70b84a8",
   "metadata": {},
   "outputs": [],
   "source": [
    "import get_patient\n",
    "get_genes_above_zero(genepy_bin_99, )"
   ]
  },
  {
   "cell_type": "markdown",
   "id": "d1e35716-dd3f-4da2-aed9-ce1c5faef953",
   "metadata": {},
   "source": [
    "## Other \n",
    "---"
   ]
  },
  {
   "cell_type": "code",
   "execution_count": 43,
   "id": "0a56e58e-6ce2-4eae-8bf9-d85ce16a54b3",
   "metadata": {},
   "outputs": [
    {
     "data": {
      "text/plain": [
       "0.0"
      ]
     },
     "execution_count": 43,
     "metadata": {},
     "output_type": "execute_result"
    }
   ],
   "source": [
    "G = genepy_df['NOD2']\n",
    "G[1] = 1\n",
    "G[2] = 0\n",
    "G[2]"
   ]
  },
  {
   "cell_type": "code",
   "execution_count": 74,
   "id": "8a831a15-0f50-4b29-938d-d0c313eb1d5a",
   "metadata": {},
   "outputs": [],
   "source": [
    "def fun2(df, col, row):  \n",
    "    X = df[col]\n",
    "    percentile = np.percentile(X,95)\n",
    "    \n",
    "    for row in X:\n",
    "        if row >= percentile:\n",
    "            return 1\n",
    "        else:\n",
    "            return 0"
   ]
  },
  {
   "cell_type": "code",
   "execution_count": 75,
   "id": "61c9b19c-123f-4e82-9f5c-c0411680e636",
   "metadata": {},
   "outputs": [
    {
     "data": {
      "text/plain": [
       "0"
      ]
     },
     "execution_count": 75,
     "metadata": {},
     "output_type": "execute_result"
    }
   ],
   "source": [
    "fun2(genepy_df, 'NOD2', 24)"
   ]
  },
  {
   "cell_type": "code",
   "execution_count": 19,
   "id": "c88d62e0-b886-4d25-878d-4e0a14abbd15",
   "metadata": {},
   "outputs": [
    {
     "ename": "TypeError",
     "evalue": "list indices must be integers or slices, not str",
     "output_type": "error",
     "traceback": [
      "\u001b[0;31m---------------------------------------------------------------------------\u001b[0m",
      "\u001b[0;31mTypeError\u001b[0m                                 Traceback (most recent call last)",
      "\u001b[0;32m/var/folders/vr/l3nh06095r77bwy94f2wh_jc0000gn/T/ipykernel_48362/1113499918.py\u001b[0m in \u001b[0;36m<module>\u001b[0;34m\u001b[0m\n\u001b[0;32m----> 1\u001b[0;31m \u001b[0malpha\u001b[0m\u001b[0;34m[\u001b[0m\u001b[0;34m'a'\u001b[0m\u001b[0;34m]\u001b[0m\u001b[0;34m\u001b[0m\u001b[0;34m\u001b[0m\u001b[0m\n\u001b[0m",
      "\u001b[0;31mTypeError\u001b[0m: list indices must be integers or slices, not str"
     ]
    }
   ],
   "source": []
  },
  {
   "cell_type": "code",
   "execution_count": 26,
   "id": "fcaed8e0-4a77-4c61-ad91-ddd4450459b4",
   "metadata": {},
   "outputs": [],
   "source": [
    "alpha = [chr(i) for i in range(ord('a'),ord('z')+1)]\n",
    "alpha_r = alpha[::-1]\n",
    "alpha_r\n",
    "\n",
    "string = \"hello My name is!\"\n",
    "retur = \"\"\n",
    "for i in string:\n",
    "    if i in alpha:\n",
    "        retur += alpha_r[alpha.index(i)]\n",
    "    else:\n",
    "        retur += i\n",
    "    "
   ]
  },
  {
   "cell_type": "code",
   "execution_count": 27,
   "id": "cd83d5a0-aa26-4b5a-8bb0-aae59be665be",
   "metadata": {},
   "outputs": [
    {
     "data": {
      "text/plain": [
       "'svool Mb mznv rh!'"
      ]
     },
     "execution_count": 27,
     "metadata": {},
     "output_type": "execute_result"
    }
   ],
   "source": [
    "retur"
   ]
  },
  {
   "cell_type": "code",
   "execution_count": null,
   "id": "1bd3cac1-ed27-439f-95f0-80a0022a9822",
   "metadata": {},
   "outputs": [],
   "source": []
  }
 ],
 "metadata": {
  "kernelspec": {
   "display_name": "Python [conda env:Research_Project] *",
   "language": "python",
   "name": "conda-env-Research_Project-py"
  },
  "language_info": {
   "codemirror_mode": {
    "name": "ipython",
    "version": 3
   },
   "file_extension": ".py",
   "mimetype": "text/x-python",
   "name": "python",
   "nbconvert_exporter": "python",
   "pygments_lexer": "ipython3",
   "version": "3.8.12"
  }
 },
 "nbformat": 4,
 "nbformat_minor": 5
}
